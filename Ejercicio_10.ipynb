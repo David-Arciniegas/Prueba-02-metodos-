{
  "nbformat": 4,
  "nbformat_minor": 0,
  "metadata": {
    "colab": {
      "provenance": [],
      "authorship_tag": "ABX9TyOjYvBG2otYBrOumMYR79e3",
      "include_colab_link": true
    },
    "kernelspec": {
      "name": "python3",
      "display_name": "Python 3"
    },
    "language_info": {
      "name": "python"
    }
  },
  "cells": [
    {
      "cell_type": "markdown",
      "metadata": {
        "id": "view-in-github",
        "colab_type": "text"
      },
      "source": [
        "<a href=\"https://colab.research.google.com/github/David-Arciniegas/Prueba-02-metodos-/blob/main/Ejercicio_10.ipynb\" target=\"_parent\"><img src=\"https://colab.research.google.com/assets/colab-badge.svg\" alt=\"Open In Colab\"/></a>"
      ]
    },
    {
      "cell_type": "code",
      "source": [
        "import logging\n",
        "from sys import stdout\n",
        "from datetime import datetime\n",
        "\n",
        "logging.basicConfig(\n",
        "    level=logging.INFO,\n",
        "    format=\"[%(asctime)s][%(levelname)s] %(message)s\",\n",
        "    stream=stdout,\n",
        "    datefmt=\"%m-%d %H:%M:%S\",\n",
        ")\n",
        "logging.info(datetime.now())"
      ],
      "metadata": {
        "id": "o0lW0Gpm_BKJ"
      },
      "execution_count": 9,
      "outputs": []
    },
    {
      "cell_type": "code",
      "source": [
        "import numpy as np\n",
        "def eliminacion_gaussiana(A: np.ndarray) -> np.ndarray:\n",
        "    \"\"\"Resuelve un sistema de ecuaciones lineales mediante el método de eliminación gaussiana.\n",
        "\n",
        "    ## Parameters\n",
        "\n",
        "    ``A``: matriz aumentada del sistema de ecuaciones lineales. Debe ser de tamaño n-by-(n+1), donde n es el número de incógnitas.\n",
        "\n",
        "    ## Return\n",
        "\n",
        "    ``solucion``: vector con la solución del sistema de ecuaciones lineales.\n",
        "\n",
        "    \"\"\"\n",
        "    if not isinstance(A, np.ndarray):\n",
        "        logging.debug(\"Convirtiendo A a numpy array.\")\n",
        "        A = np.array(A)\n",
        "    assert A.shape[0] == A.shape[1] - 1, \"La matriz A debe ser de tamaño n-by-(n+1).\"\n",
        "    n = A.shape[0]\n",
        "\n",
        "    for i in range(0, n - 1):  # loop por columna\n",
        "\n",
        "        # --- encontrar pivote\n",
        "        p = None  # default, first element\n",
        "        for pi in range(i, n):\n",
        "            if A[pi, i] == 0:\n",
        "                # must be nonzero\n",
        "                continue\n",
        "\n",
        "            if p is None:\n",
        "                # first nonzero element\n",
        "                p = pi\n",
        "                continue\n",
        "\n",
        "            if abs(A[pi, i]) < abs(A[p, i]):\n",
        "                p = pi\n",
        "\n",
        "        if p is None:\n",
        "            # no pivot found.\n",
        "            raise ValueError(\"No existe solución única.\")\n",
        "\n",
        "        if p != i:\n",
        "            # swap rows\n",
        "            logging.debug(f\"Intercambiando filas {i} y {p}\")\n",
        "            _aux = A[i, :].copy()\n",
        "            A[i, :] = A[p, :].copy()\n",
        "            A[p, :] = _aux\n",
        "\n",
        "        # --- Eliminación: loop por fila\n",
        "        for j in range(i + 1, n):\n",
        "            m = A[j, i] / A[i, i]\n",
        "            A[j, i:] = A[j, i:] - m * A[i, i:]\n",
        "\n",
        "        logging.info(f\"\\n{A}\")\n",
        "\n",
        "    if A[n - 1, n - 1] == 0:\n",
        "        raise ValueError(\"No existe solución única.\")\n",
        "\n",
        "        print(f\"\\n{A}\")\n",
        "    # --- Sustitución hacia atrás\n",
        "    solucion = np.zeros(n)\n",
        "    solucion[n - 1] = A[n - 1, n] / A[n - 1, n - 1]\n",
        "\n",
        "    for i in range(n - 2, -1, -1):\n",
        "        suma = 0\n",
        "        for j in range(i + 1, n):\n",
        "            suma += A[i, j] * solucion[j]\n",
        "        solucion[i] = (A[i, n] - suma) / A[i, i]\n",
        "\n",
        "    return solucion"
      ],
      "metadata": {
        "id": "mKUMduyu-Kf2"
      },
      "execution_count": 3,
      "outputs": []
    },
    {
      "cell_type": "code",
      "source": [
        "import numpy as np\n",
        "def descomposicion_LU(A: np.ndarray) -> tuple[np.ndarray, np.ndarray]:\n",
        "    \"\"\"Realiza la descomposición LU de una matriz cuadrada A.\n",
        "    [IMPORTANTE] No se realiza pivoteo.\n",
        "\n",
        "    ## Parameters\n",
        "\n",
        "    ``A``: matriz cuadrada de tamaño n-by-n.\n",
        "\n",
        "    ## Return\n",
        "\n",
        "    ``L``: matriz triangular inferior.\n",
        "\n",
        "    ``U``: matriz triangular superior. Se obtiene de la matriz ``A`` después de aplicar la eliminación gaussiana.\n",
        "    \"\"\"\n",
        "\n",
        "    A = np.array(\n",
        "        A, dtype=float\n",
        "    )  # convertir en float, porque si no, puede convertir como entero\n",
        "\n",
        "    assert A.shape[0] == A.shape[1], \"La matriz A debe ser cuadrada.\"\n",
        "    n = A.shape[0]\n",
        "\n",
        "    L = np.zeros((n, n), dtype=float)\n",
        "\n",
        "    for i in range(0, n):  # loop por columna\n",
        "\n",
        "        # --- deterimnar pivote\n",
        "        if A[i, i] == 0:\n",
        "            raise ValueError(\"No existe solución única.\")\n",
        "\n",
        "        # --- Eliminación: loop por fila\n",
        "        L[i, i] = 1\n",
        "        for j in range(i + 1, n):\n",
        "            m = A[j, i] / A[i, i]\n",
        "            A[j, i:] = A[j, i:] - m * A[i, i:]\n",
        "\n",
        "            L[j, i] = m\n",
        "\n",
        "        logging.info(f\"\\n{A}\")\n",
        "\n",
        "    if A[n - 1, n - 1] == 0:\n",
        "        raise ValueError(\"No existe solución única.\")\n",
        "\n",
        "    return L, A\n",
        "\n",
        "\n",
        "# ####################################################################\n",
        "def resolver_LU(L: np.ndarray, U: np.ndarray, b: np.ndarray) -> np.ndarray:\n",
        "    \"\"\"Resuelve un sistema de ecuaciones lineales mediante la descomposición LU.\n",
        "\n",
        "    ## Parameters\n",
        "\n",
        "    ``L``: matriz triangular inferior.\n",
        "\n",
        "    ``U``: matriz triangular superior.\n",
        "\n",
        "    ``b``: vector de términos independientes.\n",
        "\n",
        "    ## Return\n",
        "\n",
        "    ``solucion``: vector con la solución del sistema de ecuaciones lineales.\n",
        "\n",
        "    \"\"\"\n",
        "\n",
        "    n = L.shape[0]\n",
        "\n",
        "    # --- Sustitución hacia adelante\n",
        "    logging.info(\"Sustitución hacia adelante\")\n",
        "\n",
        "    y = np.zeros((n, 1), dtype=float)\n",
        "\n",
        "    y[0] = b[0] / L[0, 0]\n",
        "\n",
        "    for i in range(1, n):\n",
        "        suma = 0\n",
        "        for j in range(i):\n",
        "            suma += L[i, j] * y[j]\n",
        "        y[i] = (b[i] - suma) / L[i, i]\n",
        "\n",
        "    logging.info(f\"y = \\n{y}\")\n",
        "\n",
        "    # --- Sustitución hacia atrás\n",
        "    logging.info(\"Sustitución hacia atrás\")\n",
        "    sol = np.zeros((n, 1), dtype=float)\n",
        "\n",
        "    sol[-1] = y[-1] / U[-1, -1]\n",
        "\n",
        "    for i in range(n - 2, -1, -1):\n",
        "        logging.info(f\"i = {i}\")\n",
        "        suma = 0\n",
        "        for j in range(i + 1, n):\n",
        "            suma += U[i, j] * sol[j]\n",
        "        logging.info(f\"suma = {suma}\")\n",
        "        logging.info(f\"U[i, i] = {U[i, i]}\")\n",
        "        logging.info(f\"y[i] = {y[i]}\")\n",
        "        sol[i] = (y[i] - suma) / U[i, i]\n",
        "\n",
        "    logging.debug(f\"x = \\n{sol}\")\n",
        "    return sol"
      ],
      "metadata": {
        "id": "FOmKaFIg-dg2"
      },
      "execution_count": 4,
      "outputs": []
    },
    {
      "cell_type": "code",
      "source": [
        "def matriz_aumentada(A: np.ndarray, b: np.ndarray) -> np.ndarray:\n",
        "    \"\"\"Construye la matriz aumentada de un sistema de ecuaciones lineales.\n",
        "\n",
        "    ## Parameters\n",
        "\n",
        "    ``A``: matriz de coeficientes.\n",
        "\n",
        "    ``b``: vector de términos independientes.\n",
        "\n",
        "    ## Return\n",
        "\n",
        "    ``a``:\n",
        "\n",
        "    \"\"\"\n",
        "    if not isinstance(A, np.ndarray):\n",
        "        logging.debug(\"Convirtiendo A a numpy array.\")\n",
        "        A = np.array(A, dtype=float)\n",
        "    if not isinstance(b, np.ndarray):\n",
        "        b = np.array(b, dtype=float)\n",
        "    assert A.shape[0] == b.shape[0], \"Las dimensiones de A y b no coinciden.\"\n",
        "    return np.hstack((A, b.reshape(-1, 1)))\n",
        "\n",
        "\n",
        "# ####################################################################\n",
        "def separar_m_aumentada(Ab: np.ndarray) -> tuple[np.ndarray, np.ndarray]:\n",
        "    \"\"\"Separa la matriz aumentada en la matriz de coeficientes y el vector de términos independientes.\n",
        "\n",
        "    ## Parameters\n",
        "    ``Ab``: matriz aumentada.\n",
        "\n",
        "    ## Return\n",
        "    ``A``: matriz de coeficientes.\n",
        "    ``b``: vector de términos independientes.\n",
        "    \"\"\"\n",
        "    logging.debug(f\"Ab = \\n{Ab}\")\n",
        "    if not isinstance(Ab, np.ndarray):\n",
        "        logging.debug(\"Convirtiendo Ab a numpy array\")\n",
        "        Ab = np.array(Ab, dtype=float)\n",
        "    return Ab[:, :-1], Ab[:, -1].reshape(-1, 1)"
      ],
      "metadata": {
        "id": "VIMZQUq0-hEA"
      },
      "execution_count": 5,
      "outputs": []
    },
    {
      "cell_type": "code",
      "source": [
        "# ####################################################################\n",
        "def calc_determinante(A: list[list[float]]) -> float:\n",
        "    \"\"\"Función que calcula el determinante usando descomposición LU\n",
        "\n",
        "    ## Parameters\n",
        "    `A`: Matriz cuadrada de tamaño n x n\n",
        "\n",
        "    ## Return\n",
        "    `detA`: Determinante de la matriz A\n",
        "\n",
        "    \"\"\"\n",
        "    # Calculamos la descomposición LU\n",
        "    L, U = descomposicion_LU(A)\n",
        "\n",
        "    # El determinante de A es el producto de los elementos diagonales de U\n",
        "    detA = 1.0\n",
        "    for i in range(len(U)):\n",
        "        detA *= U[i][i]\n",
        "\n",
        "    return detA"
      ],
      "metadata": {
        "id": "6tPWKeb598Y9"
      },
      "execution_count": 6,
      "outputs": []
    },
    {
      "cell_type": "code",
      "execution_count": 7,
      "metadata": {
        "id": "VGy11Udn94nP"
      },
      "outputs": [],
      "source": [
        "A = [\n",
        "    [-4, 2, -4, -4, 1, 2, 5, 3, 5, 1],\n",
        "    [1, 0, 4, 3, 0, -2, 3, 0, 1, 5],\n",
        "    [5, 5, -4, 5, -4, 2, 2, 2, 4, 4],\n",
        "    [-1, 3, 4, -1, -4, 0, 5, 0, 0, 5],\n",
        "    [4, 1, 4, 2, 0, 0, 3, -1, 0, 2],\n",
        "    [2, -2, 1, -1, -2, -3, 2, -2, 4, -1],\n",
        "    [3, -2, -3, -2, -1, -3, 5, -1, 5, 0],\n",
        "    [3, 4, -3, 3, -2, 2, -4, -4, 1, 5],\n",
        "    [-4, 0, 3, 3, -3, -2, -2, 0, 5, -4],\n",
        "    [-2, 4, 4, -2, -1, 1, 5, -1, 3, -3],\n",
        "]"
      ]
    },
    {
      "cell_type": "code",
      "source": [
        "calc_determinante(A)"
      ],
      "metadata": {
        "colab": {
          "base_uri": "https://localhost:8080/"
        },
        "id": "CkoxM-jU9770",
        "outputId": "9e7b74ae-35f8-4e65-e7ee-e4359bd367cf"
      },
      "execution_count": 10,
      "outputs": [
        {
          "output_type": "execute_result",
          "data": {
            "text/plain": [
              "9912776.000000015"
            ]
          },
          "metadata": {},
          "execution_count": 10
        }
      ]
    },
    {
      "cell_type": "code",
      "source": [
        "B = [\n",
        "    [2,2,4,5,-2,-3,2,-2],\n",
        "    [-1,-1,3,2,1,1,-4,4],\n",
        "    [2,5,-3,-3,-2,2,5,3],\n",
        "    [-2,-4,0,1,-1,5,-4,-1],\n",
        "    [1,-2,-1,5,5,2,1,-2],\n",
        "    [5,4,0,3,4,-1,-3,-2],\n",
        "    [4,-4,1,2,3,3,-1,3],\n",
        "    [-2,1,-3,0,5,4,4,-4],\n",
        "]"
      ],
      "metadata": {
        "id": "cX3UJNZ3_nWo"
      },
      "execution_count": 13,
      "outputs": []
    },
    {
      "cell_type": "code",
      "source": [
        "calc_determinante(B)"
      ],
      "metadata": {
        "colab": {
          "base_uri": "https://localhost:8080/",
          "height": 287
        },
        "id": "eT-xlykq_nu_",
        "outputId": "b514cef2-fb96-495a-a12f-5588e7f601fb"
      },
      "execution_count": 15,
      "outputs": [
        {
          "output_type": "error",
          "ename": "ValueError",
          "evalue": "No existe solución única.",
          "traceback": [
            "\u001b[0;31m---------------------------------------------------------------------------\u001b[0m",
            "\u001b[0;31mValueError\u001b[0m                                Traceback (most recent call last)",
            "\u001b[0;32m<ipython-input-15-6913219a2b8b>\u001b[0m in \u001b[0;36m<cell line: 1>\u001b[0;34m()\u001b[0m\n\u001b[0;32m----> 1\u001b[0;31m \u001b[0mcalc_determinante\u001b[0m\u001b[0;34m(\u001b[0m\u001b[0mB\u001b[0m\u001b[0;34m)\u001b[0m\u001b[0;34m\u001b[0m\u001b[0;34m\u001b[0m\u001b[0m\n\u001b[0m",
            "\u001b[0;32m<ipython-input-6-eb5edb503fb9>\u001b[0m in \u001b[0;36mcalc_determinante\u001b[0;34m(A)\u001b[0m\n\u001b[1;32m     11\u001b[0m     \"\"\"\n\u001b[1;32m     12\u001b[0m     \u001b[0;31m# Calculamos la descomposición LU\u001b[0m\u001b[0;34m\u001b[0m\u001b[0;34m\u001b[0m\u001b[0m\n\u001b[0;32m---> 13\u001b[0;31m     \u001b[0mL\u001b[0m\u001b[0;34m,\u001b[0m \u001b[0mU\u001b[0m \u001b[0;34m=\u001b[0m \u001b[0mdescomposicion_LU\u001b[0m\u001b[0;34m(\u001b[0m\u001b[0mA\u001b[0m\u001b[0;34m)\u001b[0m\u001b[0;34m\u001b[0m\u001b[0;34m\u001b[0m\u001b[0m\n\u001b[0m\u001b[1;32m     14\u001b[0m \u001b[0;34m\u001b[0m\u001b[0m\n\u001b[1;32m     15\u001b[0m     \u001b[0;31m# El determinante de A es el producto de los elementos diagonales de U\u001b[0m\u001b[0;34m\u001b[0m\u001b[0;34m\u001b[0m\u001b[0m\n",
            "\u001b[0;32m<ipython-input-4-0e410272ce13>\u001b[0m in \u001b[0;36mdescomposicion_LU\u001b[0;34m(A)\u001b[0m\n\u001b[1;32m     28\u001b[0m         \u001b[0;31m# --- deterimnar pivote\u001b[0m\u001b[0;34m\u001b[0m\u001b[0;34m\u001b[0m\u001b[0m\n\u001b[1;32m     29\u001b[0m         \u001b[0;32mif\u001b[0m \u001b[0mA\u001b[0m\u001b[0;34m[\u001b[0m\u001b[0mi\u001b[0m\u001b[0;34m,\u001b[0m \u001b[0mi\u001b[0m\u001b[0;34m]\u001b[0m \u001b[0;34m==\u001b[0m \u001b[0;36m0\u001b[0m\u001b[0;34m:\u001b[0m\u001b[0;34m\u001b[0m\u001b[0;34m\u001b[0m\u001b[0m\n\u001b[0;32m---> 30\u001b[0;31m             \u001b[0;32mraise\u001b[0m \u001b[0mValueError\u001b[0m\u001b[0;34m(\u001b[0m\u001b[0;34m\"No existe solución única.\"\u001b[0m\u001b[0;34m)\u001b[0m\u001b[0;34m\u001b[0m\u001b[0;34m\u001b[0m\u001b[0m\n\u001b[0m\u001b[1;32m     31\u001b[0m \u001b[0;34m\u001b[0m\u001b[0m\n\u001b[1;32m     32\u001b[0m         \u001b[0;31m# --- Eliminación: loop por fila\u001b[0m\u001b[0;34m\u001b[0m\u001b[0;34m\u001b[0m\u001b[0m\n",
            "\u001b[0;31mValueError\u001b[0m: No existe solución única."
          ]
        }
      ]
    }
  ]
}